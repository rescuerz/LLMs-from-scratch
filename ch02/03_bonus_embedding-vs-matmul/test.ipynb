{
 "cells": [
  {
   "cell_type": "code",
   "execution_count": 4,
   "metadata": {},
   "outputs": [],
   "source": [
    "import torch\n",
    "\n",
    "idx = torch.tensor([0, 1, 2, 3, 4])\n",
    "\n",
    "num_idx = max(idx) + 1\n",
    "\n",
    "out_dim = 8\n",
    "\n",
    "torch.manual_seed(123)\n",
    "\n",
    "embedding = torch.nn.Embedding(num_idx, out_dim)\n"
   ]
  },
  {
   "cell_type": "code",
   "execution_count": 5,
   "metadata": {},
   "outputs": [
    {
     "name": "stdout",
     "output_type": "stream",
     "text": [
      "Parameter containing:\n",
      "tensor([[ 0.3374, -0.1778, -0.3035, -0.5880,  0.3486,  0.6603, -0.2196, -0.3792],\n",
      "        [ 0.7671, -1.1925,  0.6984, -1.4097,  0.1794,  1.8951,  0.4954,  0.2692],\n",
      "        [-0.0770, -1.0205, -0.1690,  0.9178,  1.5810,  1.3010,  1.2753, -0.2010],\n",
      "        [ 0.9624,  0.2492, -0.4845, -2.0929, -0.8199, -0.4210, -0.9620,  1.2825],\n",
      "        [-0.3430, -0.6821, -0.9887, -1.7018, -0.7498, -1.1285,  0.4135,  0.2892]],\n",
      "       requires_grad=True)\n",
      "tensor([ 0.3374, -0.1778, -0.3035, -0.5880,  0.3486,  0.6603, -0.2196, -0.3792],\n",
      "       grad_fn=<SelectBackward0>)\n",
      "tensor([ 0.7671, -1.1925,  0.6984, -1.4097,  0.1794,  1.8951,  0.4954,  0.2692],\n",
      "       grad_fn=<SelectBackward0>)\n",
      "tensor([-0.0770, -1.0205, -0.1690,  0.9178,  1.5810,  1.3010,  1.2753, -0.2010],\n",
      "       grad_fn=<SelectBackward0>)\n",
      "tensor([ 0.9624,  0.2492, -0.4845, -2.0929, -0.8199, -0.4210, -0.9620,  1.2825],\n",
      "       grad_fn=<SelectBackward0>)\n",
      "tensor([-0.3430, -0.6821, -0.9887, -1.7018, -0.7498, -1.1285,  0.4135,  0.2892],\n",
      "       grad_fn=<SelectBackward0>)\n",
      "tensor([[ 0.3374, -0.1778, -0.3035, -0.5880,  0.3486,  0.6603, -0.2196, -0.3792],\n",
      "        [ 0.7671, -1.1925,  0.6984, -1.4097,  0.1794,  1.8951,  0.4954,  0.2692],\n",
      "        [-0.0770, -1.0205, -0.1690,  0.9178,  1.5810,  1.3010,  1.2753, -0.2010],\n",
      "        [ 0.9624,  0.2492, -0.4845, -2.0929, -0.8199, -0.4210, -0.9620,  1.2825],\n",
      "        [-0.3430, -0.6821, -0.9887, -1.7018, -0.7498, -1.1285,  0.4135,  0.2892]],\n",
      "       grad_fn=<EmbeddingBackward0>)\n",
      "tensor([[True, True, True, True, True, True, True, True],\n",
      "        [True, True, True, True, True, True, True, True],\n",
      "        [True, True, True, True, True, True, True, True],\n",
      "        [True, True, True, True, True, True, True, True],\n",
      "        [True, True, True, True, True, True, True, True]])\n"
     ]
    }
   ],
   "source": [
    "print(embedding.weight)\n",
    "for i in range(num_idx):\n",
    "    print(embedding.weight[i])\n",
    "\n",
    "embedding_result = embedding(idx)\n",
    "\n",
    "print(embedding_result)\n",
    "print(embedding_result == embedding.weight[idx])"
   ]
  },
  {
   "cell_type": "code",
   "execution_count": 6,
   "metadata": {},
   "outputs": [
    {
     "name": "stdout",
     "output_type": "stream",
     "text": [
      "tensor([[1, 0, 0, 0, 0],\n",
      "        [0, 1, 0, 0, 0],\n",
      "        [0, 0, 1, 0, 0],\n",
      "        [0, 0, 0, 1, 0],\n",
      "        [0, 0, 0, 0, 1]])\n"
     ]
    }
   ],
   "source": [
    "one_hot = torch.nn.functional.one_hot(idx)\n",
    "\n",
    "print(one_hot)"
   ]
  },
  {
   "cell_type": "code",
   "execution_count": 10,
   "metadata": {},
   "outputs": [
    {
     "name": "stdout",
     "output_type": "stream",
     "text": [
      "Parameter containing:\n",
      "tensor([[-0.1824,  0.0148, -0.2221,  0.1687, -0.3811],\n",
      "        [ 0.3278, -0.3251, -0.3556, -0.2826,  0.2025],\n",
      "        [-0.1652,  0.1674, -0.3796, -0.2713, -0.1642],\n",
      "        [-0.0879, -0.3412,  0.2928, -0.1055,  0.1436],\n",
      "        [ 0.3162,  0.0833,  0.1223,  0.4317, -0.2017],\n",
      "        [ 0.1417, -0.1990,  0.3196,  0.3572, -0.4123],\n",
      "        [ 0.3818,  0.2136,  0.1949,  0.1841,  0.3718],\n",
      "        [-0.0590, -0.3782, -0.1283, -0.3150,  0.0296]], requires_grad=True)\n",
      "Linear layer weight shape: torch.Size([8, 5])\n"
     ]
    }
   ],
   "source": [
    "torch.manual_seed(123)\n",
    "linear = torch.nn.Linear(num_idx, out_dim, bias=False)\n",
    "\n",
    "print(linear.weight)\n",
    "print(\"Linear layer weight shape:\", linear.weight.shape)\n"
   ]
  },
  {
   "cell_type": "code",
   "execution_count": 11,
   "metadata": {},
   "outputs": [
    {
     "name": "stdout",
     "output_type": "stream",
     "text": [
      "Parameter containing:\n",
      "tensor([[ 0.3374, -0.1778, -0.3035, -0.5880,  0.3486,  0.6603, -0.2196, -0.3792],\n",
      "        [ 0.7671, -1.1925,  0.6984, -1.4097,  0.1794,  1.8951,  0.4954,  0.2692],\n",
      "        [-0.0770, -1.0205, -0.1690,  0.9178,  1.5810,  1.3010,  1.2753, -0.2010],\n",
      "        [ 0.9624,  0.2492, -0.4845, -2.0929, -0.8199, -0.4210, -0.9620,  1.2825],\n",
      "        [-0.3430, -0.6821, -0.9887, -1.7018, -0.7498, -1.1285,  0.4135,  0.2892]],\n",
      "       requires_grad=True)\n",
      "Embedding layer weight shape: torch.Size([5, 8])\n",
      "tensor([[ 0.3374,  0.7671, -0.0770,  0.9624, -0.3430],\n",
      "        [-0.1778, -1.1925, -1.0205,  0.2492, -0.6821],\n",
      "        [-0.3035,  0.6984, -0.1690, -0.4845, -0.9887],\n",
      "        [-0.5880, -1.4097,  0.9178, -2.0929, -1.7018],\n",
      "        [ 0.3486,  0.1794,  1.5810, -0.8199, -0.7498],\n",
      "        [ 0.6603,  1.8951,  1.3010, -0.4210, -1.1285],\n",
      "        [-0.2196,  0.4954,  1.2753, -0.9620,  0.4135],\n",
      "        [-0.3792,  0.2692, -0.2010,  1.2825,  0.2892]],\n",
      "       grad_fn=<PermuteBackward0>)\n",
      "Embedding layer.T weight shape: torch.Size([8, 5])\n",
      "Parameter containing:\n",
      "tensor([[ 0.3374,  0.7671, -0.0770,  0.9624, -0.3430],\n",
      "        [-0.1778, -1.1925, -1.0205,  0.2492, -0.6821],\n",
      "        [-0.3035,  0.6984, -0.1690, -0.4845, -0.9887],\n",
      "        [-0.5880, -1.4097,  0.9178, -2.0929, -1.7018],\n",
      "        [ 0.3486,  0.1794,  1.5810, -0.8199, -0.7498],\n",
      "        [ 0.6603,  1.8951,  1.3010, -0.4210, -1.1285],\n",
      "        [-0.2196,  0.4954,  1.2753, -0.9620,  0.4135],\n",
      "        [-0.3792,  0.2692, -0.2010,  1.2825,  0.2892]], requires_grad=True)\n"
     ]
    }
   ],
   "source": [
    "print(embedding.weight)\n",
    "print(\"Embedding layer weight shape:\", embedding.weight.shape)\n",
    "print(embedding.weight.T)\n",
    "print(\"Embedding layer.T weight shape:\", embedding.weight.T.shape)\n",
    "linear.weight = torch.nn.Parameter(embedding.weight.T)\n",
    "print(linear.weight)"
   ]
  },
  {
   "cell_type": "code",
   "execution_count": 14,
   "metadata": {},
   "outputs": [
    {
     "name": "stdout",
     "output_type": "stream",
     "text": [
      "tensor([[1, 0, 0, 0, 0],\n",
      "        [0, 1, 0, 0, 0],\n",
      "        [0, 0, 1, 0, 0],\n",
      "        [0, 0, 0, 1, 0],\n",
      "        [0, 0, 0, 0, 1]])\n",
      "One-hot encoded shape: torch.Size([5, 5])\n",
      "Parameter containing:\n",
      "tensor([[ 0.3374,  0.7671, -0.0770,  0.9624, -0.3430],\n",
      "        [-0.1778, -1.1925, -1.0205,  0.2492, -0.6821],\n",
      "        [-0.3035,  0.6984, -0.1690, -0.4845, -0.9887],\n",
      "        [-0.5880, -1.4097,  0.9178, -2.0929, -1.7018],\n",
      "        [ 0.3486,  0.1794,  1.5810, -0.8199, -0.7498],\n",
      "        [ 0.6603,  1.8951,  1.3010, -0.4210, -1.1285],\n",
      "        [-0.2196,  0.4954,  1.2753, -0.9620,  0.4135],\n",
      "        [-0.3792,  0.2692, -0.2010,  1.2825,  0.2892]], requires_grad=True)\n",
      "linear weight shape: torch.Size([8, 5])\n",
      "tensor([[ 0.3374, -0.1778, -0.3035, -0.5880,  0.3486,  0.6603, -0.2196, -0.3792],\n",
      "        [ 0.7671, -1.1925,  0.6984, -1.4097,  0.1794,  1.8951,  0.4954,  0.2692],\n",
      "        [-0.0770, -1.0205, -0.1690,  0.9178,  1.5810,  1.3010,  1.2753, -0.2010],\n",
      "        [ 0.9624,  0.2492, -0.4845, -2.0929, -0.8199, -0.4210, -0.9620,  1.2825],\n",
      "        [-0.3430, -0.6821, -0.9887, -1.7018, -0.7498, -1.1285,  0.4135,  0.2892]],\n",
      "       grad_fn=<PermuteBackward0>)\n",
      "linear weight.T shape: torch.Size([5, 8])\n",
      "tensor([[ 0.3374, -0.1778, -0.3035, -0.5880,  0.3486,  0.6603, -0.2196, -0.3792],\n",
      "        [ 0.7671, -1.1925,  0.6984, -1.4097,  0.1794,  1.8951,  0.4954,  0.2692],\n",
      "        [-0.0770, -1.0205, -0.1690,  0.9178,  1.5810,  1.3010,  1.2753, -0.2010],\n",
      "        [ 0.9624,  0.2492, -0.4845, -2.0929, -0.8199, -0.4210, -0.9620,  1.2825],\n",
      "        [-0.3430, -0.6821, -0.9887, -1.7018, -0.7498, -1.1285,  0.4135,  0.2892]],\n",
      "       grad_fn=<MmBackward0>)\n",
      "Output shape after linear layer: torch.Size([5, 8])\n"
     ]
    }
   ],
   "source": [
    "# 打印 onehot 的形状\n",
    "print(one_hot)\n",
    "print(\"One-hot encoded shape:\", one_hot.shape)\n",
    "print(linear.weight)\n",
    "print(\"linear weight shape:\", linear.weight.shape)\n",
    "print(linear.weight.T)\n",
    "print(\"linear weight.T shape:\", linear.weight.T.shape)\n",
    "# 使用 linear 层进行计算并打印输出的形状\n",
    "output = linear(one_hot.float())\n",
    "print(output)\n",
    "print(\"Output shape after linear layer:\", output.shape)"
   ]
  },
  {
   "cell_type": "code",
   "execution_count": 15,
   "metadata": {},
   "outputs": [
    {
     "name": "stdout",
     "output_type": "stream",
     "text": [
      "tensor([[True, True, True, True, True, True, True, True],\n",
      "        [True, True, True, True, True, True, True, True],\n",
      "        [True, True, True, True, True, True, True, True],\n",
      "        [True, True, True, True, True, True, True, True],\n",
      "        [True, True, True, True, True, True, True, True]])\n"
     ]
    }
   ],
   "source": [
    "\n",
    "print(embedding(idx) == output)\n"
   ]
  }
 ],
 "metadata": {
  "kernelspec": {
   "display_name": ".venv",
   "language": "python",
   "name": "python3"
  },
  "language_info": {
   "codemirror_mode": {
    "name": "ipython",
    "version": 3
   },
   "file_extension": ".py",
   "mimetype": "text/x-python",
   "name": "python",
   "nbconvert_exporter": "python",
   "pygments_lexer": "ipython3",
   "version": "3.10.16"
  }
 },
 "nbformat": 4,
 "nbformat_minor": 2
}
